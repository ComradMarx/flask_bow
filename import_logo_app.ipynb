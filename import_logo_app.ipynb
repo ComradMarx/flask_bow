{
 "cells": [
  {
   "cell_type": "code",
   "execution_count": 25,
   "id": "e3999d34-063b-4721-ad44-b797dde5e5d0",
   "metadata": {
    "tags": []
   },
   "outputs": [],
   "source": [
    "from flask import Flask, request\n",
    "\n",
    "app = Flask(__name__)\n",
    "\n",
    "@app.route('/', methods=['GET', 'POST'])\n",
    "def upload_file():\n",
    "    if request.method == 'POST':\n",
    "        file = request.files['imageFile']\n",
    "        if file:\n",
    "            filename = file.filename\n",
    "            file.save('uploads/' + filename)\n",
    "            return f\"\"\"{filename} uploaded successfully!\\n\n",
    "            Takes 10 Seconds to upload your image\\n\n",
    "            After 10 Seconds choose another logo size to update bow_model.\"\"\"\n",
    "        \n",
    "        \n",
    "    return '''\n",
    "    <!doctype html>\n",
    "    <html>\n",
    "    <head>\n",
    "        <title>Image Upload</title>\n",
    "    </head>\n",
    "    <body>\n",
    "        <form method=\"post\" enctype=\"multipart/form-data\">\n",
    "            <input type=\"file\" name=\"imageFile\">\n",
    "            <input type=\"submit\" value=\"Upload\">\n",
    "        </form>\n",
    "    </body>\n",
    "    </html>\n",
    "    '''\n",
    "\n",
    "#if __name__ == '__main__':\n",
    "    #app.run()\n"
   ]
  },
  {
   "cell_type": "code",
   "execution_count": null,
   "id": "d741ddb2-9b8a-442c-b59d-9fc88ee64286",
   "metadata": {
    "tags": []
   },
   "outputs": [
    {
     "name": "stdout",
     "output_type": "stream",
     "text": [
      " * Serving Flask app '__main__'\n",
      " * Debug mode: off\n"
     ]
    },
    {
     "name": "stderr",
     "output_type": "stream",
     "text": [
      "\u001b[31m\u001b[1mWARNING: This is a development server. Do not use it in a production deployment. Use a production WSGI server instead.\u001b[0m\n",
      " * Running on all addresses (0.0.0.0)\n",
      " * Running on http://127.0.0.1:5001\n",
      " * Running on http://192.168.1.66:5001\n",
      "\u001b[33mPress CTRL+C to quit\u001b[0m\n",
      "127.0.0.1 - - [09/Jun/2023 23:06:31] \"GET / HTTP/1.1\" 200 -\n",
      "127.0.0.1 - - [09/Jun/2023 23:06:44] \"POST / HTTP/1.1\" 200 -\n"
     ]
    }
   ],
   "source": [
    "app.run(host='0.0.0.0', port=5001)"
   ]
  },
  {
   "cell_type": "code",
   "execution_count": null,
   "id": "7596e73e-6a72-4a68-ac35-3487a246f3ca",
   "metadata": {},
   "outputs": [],
   "source": [
    "http://192.168.1.66:5000/"
   ]
  },
  {
   "cell_type": "code",
   "execution_count": null,
   "id": "cb7a002a-bd05-4b2a-ba62-5425e8e83c84",
   "metadata": {},
   "outputs": [],
   "source": []
  },
  {
   "cell_type": "code",
   "execution_count": null,
   "id": "5016cd88-80c1-4365-8e4d-1847e849a517",
   "metadata": {},
   "outputs": [],
   "source": []
  },
  {
   "cell_type": "code",
   "execution_count": null,
   "id": "160b351a-81b2-49e4-8910-b7d7d7aa8555",
   "metadata": {},
   "outputs": [],
   "source": []
  },
  {
   "cell_type": "code",
   "execution_count": null,
   "id": "c579aac1-9de3-49dc-b694-6a0dd47d60c1",
   "metadata": {},
   "outputs": [],
   "source": []
  },
  {
   "cell_type": "code",
   "execution_count": null,
   "id": "6e0df1ad-5fba-48d6-b54e-d84ab7aa81a5",
   "metadata": {},
   "outputs": [],
   "source": []
  },
  {
   "cell_type": "code",
   "execution_count": null,
   "id": "7fdee302-a5b5-4621-b222-c9322ca893bf",
   "metadata": {},
   "outputs": [],
   "source": []
  },
  {
   "cell_type": "code",
   "execution_count": null,
   "id": "481fbdc0-e2d5-4a76-b7e2-d2c2df7c1177",
   "metadata": {
    "tags": []
   },
   "outputs": [],
   "source": []
  },
  {
   "cell_type": "code",
   "execution_count": null,
   "id": "5c99f245-baa5-4a4d-8420-deca02bffe49",
   "metadata": {
    "tags": []
   },
   "outputs": [],
   "source": []
  },
  {
   "cell_type": "code",
   "execution_count": null,
   "id": "ce8e01c3-9afb-4ad3-9e6d-ea4aba1922e1",
   "metadata": {},
   "outputs": [],
   "source": []
  }
 ],
 "metadata": {
  "kernelspec": {
   "display_name": "Python 3 (ipykernel)",
   "language": "python",
   "name": "python3"
  },
  "language_info": {
   "codemirror_mode": {
    "name": "ipython",
    "version": 3
   },
   "file_extension": ".py",
   "mimetype": "text/x-python",
   "name": "python",
   "nbconvert_exporter": "python",
   "pygments_lexer": "ipython3",
   "version": "3.8.16"
  }
 },
 "nbformat": 4,
 "nbformat_minor": 5
}
