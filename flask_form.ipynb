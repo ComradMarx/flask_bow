{
 "cells": [
  {
   "cell_type": "code",
   "execution_count": 3,
   "id": "211f080a-27b9-428c-8595-53e05df10af1",
   "metadata": {
    "tags": []
   },
   "outputs": [
    {
     "name": "stdout",
     "output_type": "stream",
     "text": [
      " * Serving Flask app '__main__'\n",
      " * Debug mode: on\n"
     ]
    },
    {
     "name": "stderr",
     "output_type": "stream",
     "text": [
      "\u001b[31m\u001b[1mWARNING: This is a development server. Do not use it in a production deployment. Use a production WSGI server instead.\u001b[0m\n",
      " * Running on http://127.0.0.1:5000\n",
      "\u001b[33mPress CTRL+C to quit\u001b[0m\n",
      " * Restarting with stat\n",
      "Traceback (most recent call last):\n",
      "  File \"/Users/deanemarks/miniconda3/lib/python3.8/site-packages/ipykernel_launcher.py\", line 15, in <module>\n",
      "    from ipykernel import kernelapp as app\n",
      "  File \"/Users/deanemarks/miniconda3/lib/python3.8/site-packages/ipykernel/__init__.py\", line 5, in <module>\n",
      "    from .connect import *  # noqa\n",
      "  File \"/Users/deanemarks/miniconda3/lib/python3.8/site-packages/ipykernel/connect.py\", line 11, in <module>\n",
      "    import jupyter_client\n",
      "  File \"/Users/deanemarks/miniconda3/lib/python3.8/site-packages/jupyter_client/__init__.py\", line 8, in <module>\n",
      "    from .asynchronous import AsyncKernelClient  # noqa\n",
      "  File \"/Users/deanemarks/miniconda3/lib/python3.8/site-packages/jupyter_client/asynchronous/__init__.py\", line 1, in <module>\n",
      "    from .client import AsyncKernelClient  # noqa\n",
      "  File \"/Users/deanemarks/miniconda3/lib/python3.8/site-packages/jupyter_client/asynchronous/client.py\", line 5, in <module>\n",
      "    import zmq.asyncio\n",
      "  File \"/Users/deanemarks/miniconda3/lib/python3.8/site-packages/zmq/asyncio.py\", line 9, in <module>\n",
      "    import asyncio\n",
      "  File \"/Users/deanemarks/miniconda3/lib/python3.8/asyncio/__init__.py\", line 8, in <module>\n",
      "    from .base_events import *\n",
      "  File \"/Users/deanemarks/miniconda3/lib/python3.8/asyncio/base_events.py\", line 18, in <module>\n",
      "    import concurrent.futures\n",
      "  File \"/Users/deanemarks/miniconda3/lib/python3.8/site-packages/concurrent/futures/__init__.py\", line 8, in <module>\n",
      "    from concurrent.futures._base import (FIRST_COMPLETED,\n",
      "  File \"/Users/deanemarks/miniconda3/lib/python3.8/site-packages/concurrent/futures/_base.py\", line 357\n",
      "    raise type(self._exception), self._exception, self._traceback\n",
      "                               ^\n",
      "SyntaxError: invalid syntax\n"
     ]
    },
    {
     "ename": "SystemExit",
     "evalue": "1",
     "output_type": "error",
     "traceback": [
      "An exception has occurred, use %tb to see the full traceback.\n",
      "\u001b[0;31mSystemExit\u001b[0m\u001b[0;31m:\u001b[0m 1\n"
     ]
    }
   ],
   "source": [
    "from flask import Flask, render_template, request\n",
    "\n",
    "app = Flask(__name__)\n",
    "\n",
    "@app.route('/', methods=['GET', 'POST'])\n",
    "def index():\n",
    "    if request.method == 'POST':\n",
    "        name = request.form.get('name')\n",
    "        email = request.form.get('email')\n",
    "        # Process the form data or perform any desired backend operations\n",
    "        return 'Form submitted successfully!'\n",
    "    return render_template('form.html')\n",
    "\n",
    "if __name__ == '__main__':\n",
    "    app.run(debug=True)"
   ]
  },
  {
   "cell_type": "code",
   "execution_count": null,
   "id": "d83e748b-52b2-43c9-90c8-3a6607aaa19e",
   "metadata": {},
   "outputs": [],
   "source": []
  }
 ],
 "metadata": {
  "kernelspec": {
   "display_name": "Python 3 (ipykernel)",
   "language": "python",
   "name": "python3"
  },
  "language_info": {
   "codemirror_mode": {
    "name": "ipython",
    "version": 3
   },
   "file_extension": ".py",
   "mimetype": "text/x-python",
   "name": "python",
   "nbconvert_exporter": "python",
   "pygments_lexer": "ipython3",
   "version": "3.8.16"
  }
 },
 "nbformat": 4,
 "nbformat_minor": 5
}
