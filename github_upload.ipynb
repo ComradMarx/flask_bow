{
 "cells": [
  {
   "cell_type": "code",
   "execution_count": null,
   "id": "7dd8dc62-9b97-4441-bdc5-c691036e9247",
   "metadata": {},
   "outputs": [],
   "source": []
  },
  {
   "cell_type": "code",
   "execution_count": 92,
   "id": "8ffaebf0-5538-4ab7-ac23-45e0d5e6b376",
   "metadata": {
    "tags": []
   },
   "outputs": [
    {
     "name": "stdout",
     "output_type": "stream",
     "text": [
      "UPDATING GIT HUB\n",
      "########################################################\n",
      "fatal: unable to access 'https://github.com/ComradMarx/bow_4.git/': Could not resolve host: github.com\n",
      "Reinitialized existing Git repository in /Users/deanemarks/Desktop/bow/.git/\n",
      "[main f0371e2] UPDATED: {curr_date_str}\n",
      " 3 files changed, 299 insertions(+), 175 deletions(-)\n",
      " rename .ipynb_checkpoints/{Untitled-checkpoint.ipynb => github_upload-checkpoint.ipynb} (100%)\n",
      " rename Untitled.ipynb => github_upload.ipynb (82%)\n",
      "fatal: unable to access 'https://github.com/ComradMarx/bow_4.git/': Could not resolve host: github.com\n",
      "########################################################\n",
      "GIT HUB UPDATED\n"
     ]
    }
   ],
   "source": [
    "import os\n",
    "\n",
    "#UPDATE GITHUB REPO / WEBPAGE\n",
    "print('UPDATING GIT HUB')\n",
    "print('########################################################')\n",
    "os.chdir('/Users/deanemarks/Desktop/bow')                    #change to working directory (where your code is)\n",
    "!git pull https://github.com/ComradMarx/bow_4.git  main       #pulls the files from github into your directory\n",
    "!git init                                                    #creates a hidden git folder / repo\n",
    "!git add .                                                   #adds all of the \"NEW\" files to the invisible repo\n",
    "!git commit -m \"UPDATED: {curr_date_str}\"                    #commits the \"NEW\" files to the repo\n",
    "!git push https://github.com/ComradMarx/bow_4.git  main       #pushes the files to the repo to github?\n",
    "print('########################################################')\n",
    "print('GIT HUB UPDATED')\n",
    "\n",
    "\n",
    "\n"
   ]
  },
  {
   "cell_type": "code",
   "execution_count": null,
   "id": "24be88e3-eb39-4884-931f-4d8d60aadd66",
   "metadata": {},
   "outputs": [],
   "source": []
  },
  {
   "cell_type": "code",
   "execution_count": null,
   "id": "ab77dde1-3ad1-4af2-8e81-04467ad9b28e",
   "metadata": {},
   "outputs": [],
   "source": []
  },
  {
   "cell_type": "code",
   "execution_count": null,
   "id": "8064e9f9-ed02-48e1-ac19-7245e80d894a",
   "metadata": {},
   "outputs": [],
   "source": []
  },
  {
   "cell_type": "code",
   "execution_count": null,
   "id": "2fec1ae2-b2bf-41e6-b6f9-0b1f355b35b3",
   "metadata": {},
   "outputs": [],
   "source": []
  },
  {
   "cell_type": "code",
   "execution_count": null,
   "id": "66a28ffe-ac12-4c84-9151-dd6bef526e1b",
   "metadata": {},
   "outputs": [],
   "source": []
  },
  {
   "cell_type": "code",
   "execution_count": null,
   "id": "ef6e982c-7461-427a-84f9-07f7fbc3293b",
   "metadata": {},
   "outputs": [],
   "source": []
  },
  {
   "cell_type": "code",
   "execution_count": null,
   "id": "4cfc4d15-f849-4062-99e5-2e160d47e466",
   "metadata": {
    "tags": []
   },
   "outputs": [
    {
     "name": "stdout",
     "output_type": "stream",
     "text": [
      "Serving HTTP on :: port 8000 (http://[::]:8000/) ...\n",
      "::1 - - [29/May/2023 01:19:38] code 400, message Bad request version ('ÚÚ\\\\x13\\\\x01\\\\x13\\\\x02\\\\x13\\\\x03À+À/À,À0Ì©Ì¨À\\\\x13À\\\\x14\\\\x00\\\\x9c\\\\x00\\\\x9d\\\\x00/\\\\x005\\\\x01\\\\x00\\\\x01\\\\x93')\n",
      "::1 - - [29/May/2023 01:19:38] \"\\x16\\x03\\x01\\x02\\x00\\x01\\x00\\x01ü\\x03\\x03d\\x01Ô\\x8cVoi\\x19=\\x11\\x8c7¹öÉàY\\x8dÙÁô¿bv\\x8c\\x83Áe\\x192\\x83~ \\x7fàÎ¨Ê¼ªè\\x95Â)ïìÂíéä\\x0fw6\\x09\\x07ÿØrÑ^ V\\x9a\\x94\\x11\\x00 ÚÚ\\x13\\x01\\x13\\x02\\x13\\x03À+À/À,À0Ì©Ì¨À\\x13À\\x14\\x00\\x9c\\x00\\x9d\\x00/\\x005\\x01\\x00\\x01\\x93\" 400 -\n",
      "::1 - - [29/May/2023 01:19:38] code 400, message Bad request version ('\\\\x00\\\\x02\\\\x01\\\\x00\\\\x00+\\\\x00\\\\x07\\\\x06jj\\\\x03\\\\x04\\\\x03\\\\x03\\\\x00-\\\\x00\\\\x02\\\\x01\\\\x01\\\\x00\\\\x1b\\\\x00\\\\x03\\\\x02\\\\x00\\\\x02\\\\x00\\\\x17\\\\x00\\\\x00\\\\x00\\\\x05\\\\x00\\\\x05\\\\x01\\\\x00\\\\x00\\\\x00\\\\x00ÿ\\\\x01\\\\x00\\\\x01\\\\x00\\\\x00')\n",
      "::1 - - [29/May/2023 01:19:38] \"\\x16\\x03\\x01\\x02\\x00\\x01\\x00\\x01ü\\x03\\x03ö¸P¦÷\\x89ø\\x02/»*\\x04O\\x92*mKÔ}BbÁrN\\x81·|\\x86öá~¬ Z_¸õ]+\\x84\\x8f?\\x1flM CFÆYØ,nd÷Ûò\\x0e\\x8dYJXN\\x8dc\\x00 ºº\\x13\\x01\\x13\\x02\\x13\\x03À+À/À,À0Ì©Ì¨À\\x13À\\x14\\x00\\x9c\\x00\\x9d\\x00/\\x005\\x01\\x00\\x01\\x93\\x8a\\x8a\\x00\\x00\\x003\\x00+\\x00)ZZ\\x00\\x01\\x00\\x00\\x1d\\x00 \\x98\\x9bÔ\\x88\\x8d-)Ô\\x09Ø\\x96W\"\\x12¨ÈJgT§Ûî\\x19Kñ«\\x1bYÚE\\x84~\\x00#\\x00\\x00\\x00\\x10\\x00\\x0e\\x00\\x0c\\x02h2\\x08http/1.1\\x00\\x12\\x00\\x00\\x00\\x0d\\x00\\x14\\x00\\x12\\x04\\x03\\x08\\x04\\x04\\x01\\x05\\x03\\x08\\x05\\x05\\x01\\x08\\x06\\x06\\x01\\x02\\x01\\x00\\x0b\\x00\\x02\\x01\\x00\\x00+\\x00\\x07\\x06jj\\x03\\x04\\x03\\x03\\x00-\\x00\\x02\\x01\\x01\\x00\\x1b\\x00\\x03\\x02\\x00\\x02\\x00\\x17\\x00\\x00\\x00\\x05\\x00\\x05\\x01\\x00\\x00\\x00\\x00ÿ\\x01\\x00\\x01\\x00\\x00\" 400 -\n",
      "::1 - - [29/May/2023 01:19:40] \"GET / HTTP/1.1\" 200 -\n",
      "::1 - - [29/May/2023 01:19:40] \"GET /logo_mask/0.png HTTP/1.1\" 200 -\n",
      "::1 - - [29/May/2023 01:19:40] \"GET /center_colors/white.png HTTP/1.1\" 200 -\n",
      "::1 - - [29/May/2023 01:19:40] \"GET /front_colors/white.png HTTP/1.1\" 200 -\n",
      "::1 - - [29/May/2023 01:19:40] \"GET /back_colors/white.png HTTP/1.1\" 200 -\n",
      "::1 - - [29/May/2023 01:19:40] \"GET /strap_colors/white.png HTTP/1.1\" 200 -\n",
      "::1 - - [29/May/2023 01:19:40] \"GET /images/color_pallet_2.png HTTP/1.1\" 200 -\n",
      "::1 - - [29/May/2023 01:19:41] \"GET /favicon.ico HTTP/1.1\" 200 -\n",
      "::1 - - [29/May/2023 01:20:19] \"GET /front_colors/watermelon.png HTTP/1.1\" 200 -\n",
      "::1 - - [29/May/2023 01:20:30] \"GET /front_colors/willow.png HTTP/1.1\" 200 -\n",
      "::1 - - [29/May/2023 01:20:53] \"GET /strap_colors/peony.png HTTP/1.1\" 200 -\n",
      "::1 - - [29/May/2023 01:20:53] \"GET /center_colors/peony.png HTTP/1.1\" 200 -\n",
      "::1 - - [29/May/2023 01:21:22] \"GET /back_colors/berry.png HTTP/1.1\" 200 -\n",
      "::1 - - [29/May/2023 01:21:42] \"GET /logo_mask/5.png HTTP/1.1\" 200 -\n",
      "::1 - - [29/May/2023 01:21:48] \"GET /front_colors/yam.png HTTP/1.1\" 200 -\n",
      "::1 - - [29/May/2023 01:21:54] \"GET /front_colors/sea.png HTTP/1.1\" 200 -\n",
      "::1 - - [29/May/2023 01:21:57] \"GET /front_colors/sapphire.png HTTP/1.1\" 200 -\n",
      "::1 - - [29/May/2023 01:22:03] \"GET /front_colors/bay.png HTTP/1.1\" 200 -\n",
      "::1 - - [29/May/2023 01:22:12] \"GET /center_colors/butter.png HTTP/1.1\" 200 -\n",
      "::1 - - [29/May/2023 01:22:12] \"GET /strap_colors/butter.png HTTP/1.1\" 200 -\n",
      "::1 - - [29/May/2023 01:22:40] \"GET /back_colors/flo_blue.png HTTP/1.1\" 200 -\n",
      "::1 - - [29/May/2023 01:22:56] \"GET /logo_mask/4.png HTTP/1.1\" 200 -\n",
      "::1 - - [29/May/2023 01:23:02] \"GET /logo_mask/2.png HTTP/1.1\" 200 -\n",
      "::1 - - [29/May/2023 01:23:06] \"GET /logo_mask/3.png HTTP/1.1\" 200 -\n"
     ]
    }
   ],
   "source": [
    "!python -m http.server\n"
   ]
  },
  {
   "cell_type": "code",
   "execution_count": null,
   "id": "6cdada91-511e-4563-8b0a-2bf9e1e38f94",
   "metadata": {},
   "outputs": [],
   "source": []
  },
  {
   "cell_type": "code",
   "execution_count": null,
   "id": "747670fa-4a30-44a3-b224-1e7d6a8e4a14",
   "metadata": {},
   "outputs": [],
   "source": []
  },
  {
   "cell_type": "code",
   "execution_count": 90,
   "id": "198a1025-1fc0-4837-af6b-b3cd0628fafa",
   "metadata": {},
   "outputs": [
    {
     "name": "stdout",
     "output_type": "stream",
     "text": [
      "\n",
      "The default interactive shell is now zsh.\n",
      "To update your account to use zsh, please run `chsh -s /bin/zsh`.\n",
      "For more details, please visit https://support.apple.com/kb/HT208050.\n",
      "bash-3.2$ \n",
      "bash-3.2$ \n",
      "bash-3.2$ "
     ]
    }
   ],
   "source": [
    "!bash"
   ]
  },
  {
   "cell_type": "code",
   "execution_count": 91,
   "id": "a1746c07-44e1-4d43-b94b-f441cc5da321",
   "metadata": {},
   "outputs": [
    {
     "name": "stdout",
     "output_type": "stream",
     "text": [
      "zsh:1: command not found: php\n"
     ]
    }
   ],
   "source": [
    "!php -v"
   ]
  },
  {
   "cell_type": "code",
   "execution_count": null,
   "id": "c973ca1e-0467-4ca3-b917-1a7ac92e595f",
   "metadata": {},
   "outputs": [],
   "source": []
  }
 ],
 "metadata": {
  "kernelspec": {
   "display_name": "Python 3 (ipykernel)",
   "language": "python",
   "name": "python3"
  },
  "language_info": {
   "codemirror_mode": {
    "name": "ipython",
    "version": 3
   },
   "file_extension": ".py",
   "mimetype": "text/x-python",
   "name": "python",
   "nbconvert_exporter": "python",
   "pygments_lexer": "ipython3",
   "version": "3.8.16"
  }
 },
 "nbformat": 4,
 "nbformat_minor": 5
}
